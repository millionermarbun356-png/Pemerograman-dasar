{
  "nbformat": 4,
  "nbformat_minor": 0,
  "metadata": {
    "colab": {
      "provenance": [],
      "authorship_tag": "ABX9TyOfZOFH1vt+S3LFE5K1qdGN",
      "include_colab_link": true
    },
    "kernelspec": {
      "name": "python3",
      "display_name": "Python 3"
    },
    "language_info": {
      "name": "python"
    }
  },
  "cells": [
    {
      "cell_type": "markdown",
      "metadata": {
        "id": "view-in-github",
        "colab_type": "text"
      },
      "source": [
        "<a href=\"https://colab.research.google.com/github/millionermarbun356-png/Pemerograman-dasar/blob/main/Pertemuan%201.ipynb\" target=\"_parent\"><img src=\"https://colab.research.google.com/assets/colab-badge.svg\" alt=\"Open In Colab\"/></a>"
      ]
    },
    {
      "cell_type": "code",
      "execution_count": 10,
      "metadata": {
        "colab": {
          "base_uri": "https://localhost:8080/"
        },
        "id": "dO9JMbGxWCNu",
        "outputId": "32f22547-7dc1-43ba-efd9-135d26364df0"
      },
      "outputs": [
        {
          "output_type": "stream",
          "name": "stdout",
          "text": [
            "millioner\n",
            "20\n",
            "RPE\n",
            "3\n",
            "pemegoraman dasar\n",
            "False\n"
          ]
        }
      ],
      "source": [
        "from typing_extensions import reveal_type\n",
        "# Biodata saya\n",
        "\n",
        "nama = \"millioner\"\n",
        "umur =\"20\"\n",
        "jurusan = \"RPE\"\n",
        "semester = \"3\"\n",
        "matakuliah = 'pemegoraman dasar'\n",
        "status_lulus = False\n",
        "\n",
        "\n",
        "print (nama)\n",
        "print (umur)\n",
        "print (jurusan)\n",
        "print (semester)\n",
        "print (matakuliah)\n",
        "print (status_lulus)\n"
      ]
    }
  ]
}