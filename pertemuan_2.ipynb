{
  "nbformat": 4,
  "nbformat_minor": 0,
  "metadata": {
    "colab": {
      "provenance": [],
      "authorship_tag": "ABX9TyNnL5jB1x86N8HycX4CfHzz",
      "include_colab_link": true
    },
    "kernelspec": {
      "name": "python3",
      "display_name": "Python 3"
    },
    "language_info": {
      "name": "python"
    }
  },
  "cells": [
    {
      "cell_type": "markdown",
      "metadata": {
        "id": "view-in-github",
        "colab_type": "text"
      },
      "source": [
        "<a href=\"https://colab.research.google.com/github/millionermarbun356-png/Pemerograman-dasar/blob/main/pertemuan_2.ipynb\" target=\"_parent\"><img src=\"https://colab.research.google.com/assets/colab-badge.svg\" alt=\"Open In Colab\"/></a>"
      ]
    },
    {
      "cell_type": "code",
      "execution_count": null,
      "metadata": {
        "colab": {
          "base_uri": "https://localhost:8080/"
        },
        "id": "dO9JMbGxWCNu",
        "outputId": "abcfbde9-9d41-462e-aa01-3b2c278e7297"
      },
      "outputs": [
        {
          "output_type": "stream",
          "name": "stdout",
          "text": [
            "millioner\n",
            "20\n",
            "RPE\n",
            "3\n",
            "pemegoraman dasar\n",
            "False\n",
            "tornaginjang_20_mei_2005\n",
            "smkn_1_sirandorung\n",
            "lajang\n",
            "perumahan_renggali_tembesi\n"
          ]
        }
      ],
      "source": [
        "from typing_extensions import reveal_type\n",
        "# Biodata saya\n",
        "\n",
        " = nama \"millioner\"\n",
        "umur =\"20\"\n",
        "jurusan = \"RPE\"\n",
        "semester = \"3\"\n",
        "matakuliah = 'pemegoraman dasar'\n",
        "status_lulus = False\n",
        "tempat_tgl_lahir = \"tornaginjang_20_mei_2005\"\n",
        "asal_sekolah = \"smkn_1_sirandorung\"\n",
        "status = \"lajang\"\n",
        "alamat = \"perumahan_renggali_tembesi\"\n",
        "\n",
        "\n",
        "print (nama)\n",
        "print (umur)\n",
        "print (jurusan)\n",
        "print (semester)\n",
        "print (matakuliah)\n",
        "print (status_lulus)\n",
        "print (tempat_tgl_lahir)\n",
        "print (asal_sekolah)\n",
        "print (status)\n",
        "print (alamat)\n",
        "\n"
      ]
    },
    {
      "cell_type": "code",
      "source": [
        "\n",
        "firstname = \"millioner\"\n",
        "lastname = \"okeh\"\n",
        "age = \"20\"\n",
        "ismarried = False\n",
        "\n",
        "print (firstname)\n",
        "print (lastname)\n",
        "print (age)\n",
        "print (ismarried)\n",
        "\n",
        "\n"
      ],
      "metadata": {
        "id": "o3HFX_nQU576",
        "colab": {
          "base_uri": "https://localhost:8080/"
        },
        "outputId": "ee88e5fb-7b54-4a42-a4af-1cba0b490a23"
      },
      "execution_count": 14,
      "outputs": [
        {
          "output_type": "stream",
          "name": "stdout",
          "text": [
            "millioner\n",
            "okeh\n",
            "20\n",
            "False\n"
          ]
        }
      ]
    }
  ]
}