{
  "nbformat": 4,
  "nbformat_minor": 0,
  "metadata": {
    "colab": {
      "provenance": [],
      "authorship_tag": "ABX9TyPty0w6eyE4T1b43fD6u958",
      "include_colab_link": true
    },
    "kernelspec": {
      "name": "python3",
      "display_name": "Python 3"
    },
    "language_info": {
      "name": "python"
    }
  },
  "cells": [
    {
      "cell_type": "markdown",
      "metadata": {
        "id": "view-in-github",
        "colab_type": "text"
      },
      "source": [
        "<a href=\"https://colab.research.google.com/github/millionermarbun356-png/Pemerograman-dasar/blob/main/pertemuan-2.ipynb\" target=\"_parent\"><img src=\"https://colab.research.google.com/assets/colab-badge.svg\" alt=\"Open In Colab\"/></a>"
      ]
    },
    {
      "cell_type": "code",
      "execution_count": null,
      "metadata": {
        "colab": {
          "base_uri": "https://localhost:8080/"
        },
        "id": "-5iIaKOqZaiI",
        "outputId": "55e398b7-a4a0-4c58-eadf-897069c6a7e9"
      },
      "outputs": [
        {
          "output_type": "stream",
          "name": "stdout",
          "text": [
            "23\n",
            "43\n",
            "51\n",
            "34\n",
            "[23, 43, 51, 34]\n"
          ]
        }
      ],
      "source": [
        "# deklarasi variabel list\n",
        "numbers = [23, 43, 15, 34]\n",
        "# cara mengakses elemen variabel list\n",
        "numbers [0]  # 23\n",
        "numbers [1]  # 43\n",
        "numbers [2]  # 15\n",
        "numbers [3]  # 34\n",
        "# Cara mengubah nilai elemen dalam variabel list\n",
        "numbers [2]  #51\n",
        "numbers [2]  = 51\n",
        "\n",
        "\n",
        "\n",
        "print (numbers [0])\n",
        "print (numbers [1])\n",
        "print (numbers [2])\n",
        "print (numbers [3])\n",
        "print (numbers)\n",
        "\n"
      ]
    },
    {
      "cell_type": "code",
      "source": [
        " # deklarasi variabel list numbers\n",
        "numbers = [1, 2, 3]\n",
        "\n",
        "#menambahkan elemen di indeks ke-4\n",
        "numbers.insert(4, 5) # [1, 2, 3, 5]\n",
        "\n",
        "# mengubah elemen di indeks ke-4\n",
        "numbers[3] # [1, 2, 3, 4]\n",
        "\n",
        "#menghapus elemen di indesk ke-2\n",
        "numbers.pop(2) # (1, 2, 4,)\n",
        "\n",
        "\n",
        "print (numbers)\n",
        "print (numbers)\n",
        "print (numbers)\n",
        "print (numbers)"
      ],
      "metadata": {
        "id": "l7RNZ70mrt6K",
        "colab": {
          "base_uri": "https://localhost:8080/"
        },
        "outputId": "4098661e-b6a0-4b1c-d498-c978d9738ae7"
      },
      "execution_count": 5,
      "outputs": [
        {
          "output_type": "stream",
          "name": "stdout",
          "text": [
            "[1, 2, 5]\n",
            "[1, 2, 5]\n",
            "[1, 2, 5]\n",
            "[1, 2, 5]\n"
          ]
        }
      ]
    }
  ]
}