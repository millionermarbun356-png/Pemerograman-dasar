{
  "nbformat": 4,
  "nbformat_minor": 0,
  "metadata": {
    "colab": {
      "provenance": [],
      "authorship_tag": "ABX9TyMyKYA9yLcbYzM9BN/ypQ/+",
      "include_colab_link": true
    },
    "kernelspec": {
      "name": "python3",
      "display_name": "Python 3"
    },
    "language_info": {
      "name": "python"
    }
  },
  "cells": [
    {
      "cell_type": "markdown",
      "metadata": {
        "id": "view-in-github",
        "colab_type": "text"
      },
      "source": [
        "<a href=\"https://colab.research.google.com/github/millionermarbun356-png/Pemerograman-dasar/blob/main/pertemuan%20-3.ipynb\" target=\"_parent\"><img src=\"https://colab.research.google.com/assets/colab-badge.svg\" alt=\"Open In Colab\"/></a>"
      ]
    },
    {
      "cell_type": "code",
      "source": [
        "def is_leap_year(tahun):\n",
        "    return (tahun % 4 == 0 and tahun % 100 != 0) or (tahun % 400 == 0)\n",
        "\n",
        "for tahun in tahun_list:\n",
        "    if is_leap_year(tahun):\n",
        "        print(f\"{tahun} adalah tahun kabisat.\")\n",
        "    else:\n",
        "        print(f\"{tahun} bukan tahun kabisat.\")"
      ],
      "metadata": {
        "colab": {
          "base_uri": "https://localhost:8080/"
        },
        "id": "TPE7iK-U2DyU",
        "outputId": "96fe1285-33b6-43f6-bb93-b5ba2e9ad6ce"
      },
      "execution_count": 5,
      "outputs": [
        {
          "output_type": "stream",
          "name": "stdout",
          "text": [
            "1900 bukan tahun kabisat.\n",
            "2000 adalah tahun kabisat.\n",
            "2023 bukan tahun kabisat.\n",
            "2024 adalah tahun kabisat.\n"
          ]
        }
      ]
    },
    {
      "cell_type": "code",
      "source": [
        "# Input data\n",
        "harga_item = [55500, 90000, 457000]  # Contoh daftar harga item\n",
        "is_member = True  # Status keanggotaan\n",
        "\n",
        "# 1. Hitung subtotal\n",
        "subtotal = sum(harga_item)\n",
        "\n",
        "# 2. Evaluasi syarat diskon\n",
        "berhak_diskon = is_member and subtotal > 100000\n",
        "\n",
        "# 3. Hitung jumlah diskon\n",
        "diskon = 0.15 * subtotal if berhak_diskon else 0\n",
        "\n",
        "# 4. Harga setelah diskon\n",
        "harga_setelah_diskon = subtotal - diskon\n",
        "\n",
        "# 5. Hitung PPN\n",
        "ppn = 0.11 * harga_setelah_diskon\n",
        "\n",
        "# 6. Hitung total akhir\n",
        "total_akhir = harga_setelah_diskon + ppn\n",
        "\n",
        "# Output\n",
        "print(\"Subtotal          :\", f\"Rp {subtotal:,.0f}\")\n",
        "print(\"Diskon (15%)      :\", f\"Rp {diskon:,.0f}\")\n",
        "print(\"Harga setelah diskon:\", f\"Rp {harga_setelah_diskon:,.0f}\")\n",
        "print(\"PPN (11%)         :\", f\"Rp {ppn:,.0f}\")\n",
        "print(\"Total Akhir       :\", f\"Rp {total_akhir:,.0f}\")\n"
      ],
      "metadata": {
        "colab": {
          "base_uri": "https://localhost:8080/"
        },
        "id": "SeHoLw2m2ogz",
        "outputId": "bd03fed1-e521-42ed-b2f4-8f39ef7c3d06"
      },
      "execution_count": 6,
      "outputs": [
        {
          "output_type": "stream",
          "name": "stdout",
          "text": [
            "Subtotal          : Rp 602,500\n",
            "Diskon (15%)      : Rp 90,375\n",
            "Harga setelah diskon: Rp 512,125\n",
            "PPN (11%)         : Rp 56,334\n",
            "Total Akhir       : Rp 568,459\n"
          ]
        }
      ]
    }
  ]
}