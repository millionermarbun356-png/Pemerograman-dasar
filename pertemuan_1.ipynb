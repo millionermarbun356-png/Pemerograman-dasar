{
  "nbformat": 4,
  "nbformat_minor": 0,
  "metadata": {
    "colab": {
      "provenance": [],
      "authorship_tag": "ABX9TyPfIC34AAUIQNsFzlbXNStO",
      "include_colab_link": true
    },
    "kernelspec": {
      "name": "python3",
      "display_name": "Python 3"
    },
    "language_info": {
      "name": "python"
    }
  },
  "cells": [
    {
      "cell_type": "markdown",
      "metadata": {
        "id": "view-in-github",
        "colab_type": "text"
      },
      "source": [
        "<a href=\"https://colab.research.google.com/github/millionermarbun356-png/Pemerograman-dasar/blob/main/pertemuan_1.ipynb\" target=\"_parent\"><img src=\"https://colab.research.google.com/assets/colab-badge.svg\" alt=\"Open In Colab\"/></a>"
      ]
    },
    {
      "cell_type": "code",
      "execution_count": 1,
      "metadata": {
        "colab": {
          "base_uri": "https://localhost:8080/"
        },
        "id": "dO9JMbGxWCNu",
        "outputId": "c384ce6f-cdf1-4209-bf20-b288f2d73f96"
      },
      "outputs": [
        {
          "output_type": "stream",
          "name": "stdout",
          "text": [
            "millioner\n",
            "20\n",
            "RPE\n",
            "3\n",
            "pemegoraman dasar\n",
            "False\n",
            "tornaginjang_20_mei_2005\n",
            "smkn_1_sirandorung\n",
            "lajang\n",
            "perumahan_renggali_tembesi\n"
          ]
        }
      ],
      "source": [
        "from typing_extensions import reveal_type\n",
        "# Biodata saya\n",
        "\n",
        "nama = \"millioner\"\n",
        "umur =\"20\"\n",
        "jurusan = \"RPE\"\n",
        "semester = \"3\"\n",
        "matakuliah = 'pemegoraman dasar'\n",
        "status_lulus = False\n",
        "tempat_tgl_lahir = \"tornaginjang_20_mei_2005\"\n",
        "asal_sekolah = \"smkn_1_sirandorung\"\n",
        "status = \"lajang\"\n",
        "alamat = \"perumahan_renggali_tembesi\"\n",
        "\n",
        "\n",
        "print (nama)\n",
        "print (umur)\n",
        "print (jurusan)\n",
        "print (semester)\n",
        "print (matakuliah)\n",
        "print (status_lulus)\n",
        "print (tempat_tgl_lahir)\n",
        "print (asal_sekolah)\n",
        "print (status)\n",
        "print (alamat)\n",
        "\n"
      ]
    }
  ]
}